{
 "cells": [
  {
   "cell_type": "markdown",
   "id": "f82ece2a-b5cc-4882-8819-05dd2bc1158a",
   "metadata": {},
   "source": [
    "## <span style=\"color:purple\">Imports, masks, conversions"
   ]
  },
  {
   "cell_type": "code",
   "execution_count": 1,
   "id": "5ac91060-3b40-4ba5-bb08-f3325f77afce",
   "metadata": {},
   "outputs": [],
   "source": [
    "import xarray as xr\n",
    "import os\n",
    "import sys\n",
    "# Custom utilities\n",
    "import utils\n",
    "from utils.load_variable import load_variables_for_all_years\n",
    "import pandas as pd\n",
    "\n",
    "NPAC = xr.open_dataarray('/glade/u/home/jzweifel/jupyter_workspaces/Masters_paper_analysis/weighting_and_masks/NPO_binary_map_lower_bound_20_deg.nc')\n",
    "East_Asia = xr.open_dataarray('/glade/u/home/jzweifel/jupyter_workspaces/Masters_paper_analysis/weighting_and_masks/CJK_binary_assign_coords.nc')\n",
    "area = xr.open_dataarray('/glade/u/home/jzweifel/jupyter_workspaces/Masters_paper_analysis/weighting_and_masks/AREA.nc')\n",
    "\n",
    "second = 1\n",
    "minute = 60 * second\n",
    "hour = 60 * minute\n",
    "day = 24 * hour\n",
    "seconds_per_year = 365 * day\n",
    "\n",
    "kg = 1\n",
    "Tg_per_kg = 1e-9 * kg\n"
   ]
  },
  {
   "cell_type": "markdown",
   "id": "1c3dcf9b-9484-4f27-80ed-6c0369c06de6",
   "metadata": {},
   "source": [
    "## <span style=\"color:purple\"> Budget variables"
   ]
  },
  {
   "cell_type": "code",
   "execution_count": 2,
   "id": "004b1cdd-6f03-425a-8811-dfb5ab9c80c2",
   "metadata": {},
   "outputs": [],
   "source": [
    "emission_vars = ['SFso4_a1', 'SFso4_a2', 'SFso4_a3', 'so4_a1_CMXF', 'so4_a2_CMXF']\n",
    "# surface fluxes & vertically integrated external forcing (kg/m2/s)\n",
    "\n",
    "aq_prod_vars = ['so4_c1AQSO4', 'so4_c1AQH2SO4', 'so4_c2AQSO4', 'so4_c2AQH2SO4', 'so4_c3AQSO4', 'so4_c3AQH2SO4']\n",
    "# aqueous phase chemistry (kg/m2/s)\n",
    "\n",
    "dry_chem_nuc_vars = ['so4_a2_sfnnuc1']\n",
    "# new particle nucleation column tendency (kg/m2/s)\n",
    "\n",
    "dry_chem_cond_vars = ['so4_a1_sfgaex1', 'so4_a2_sfgaex1', 'so4_a3_sfgaex1']\n",
    "# gas-aerosol-exchange primary column tendency (kg/m2/s)\n",
    "\n",
    "dry_dep_variables = ['so4_a1DDF', 'so4_a2DDF', 'so4_a3DDF', 'so4_c1DDF', 'so4_c2DDF', 'so4_c3DDF']\n",
    "# dry deposition flux at bottom (grav + turb) (kg/m2/s)\n",
    "\n",
    "wet_dep_variables = ['so4_a1SFWET', 'so4_a2SFWET', 'so4_a3SFWET', 'so4_c1SFWET', 'so4_c2SFWET', 'so4_c3SFWET']\n",
    "# wet deposition flux at surface (kg/m2/s)"
   ]
  },
  {
   "cell_type": "markdown",
   "id": "d08a1737-6d5b-46c6-99b2-a210659da8bb",
   "metadata": {},
   "source": [
    "## <span style=\"color:purple\">Function to compute regional budget change across time between simulations</span>"
   ]
  },
  {
   "cell_type": "code",
   "execution_count": 3,
   "id": "7532995c-a937-4ad2-a34a-ecdaa14c2022",
   "metadata": {},
   "outputs": [],
   "source": [
    "def compute_budget_change(input_season, data_dict, region_mask, year1, year0, area, seconds_per_year, Tg_per_kg, flip_sign=False):\n",
    "    \n",
    "    # difference\n",
    "    diff = data_dict[year1].where(region_mask) - data_dict[year0].where(region_mask)\n",
    "    \n",
    "    # sign convention\n",
    "    if flip_sign:\n",
    "        diff = diff * -1\n",
    "    \n",
    "    # scale and reduce\n",
    "    result = (diff * area * seconds_per_year * Tg_per_kg).groupby(\"time.season\").mean(dim=['time']).sel(season=input_season).sum(dim=['lat', 'lon']).to_array().sum()\n",
    "    \n",
    "    return result"
   ]
  },
  {
   "cell_type": "code",
   "execution_count": 4,
   "id": "4e39f74b-f945-421a-a9f3-29975f187a53",
   "metadata": {},
   "outputs": [],
   "source": [
    "import pandas as pd\n",
    "\n",
    "data_groups = {\n",
    "    \"emission\": load_variables_for_all_years('h1', emission_vars),\n",
    "    \"aq_prod\": load_variables_for_all_years('h1', aq_prod_vars),\n",
    "    \"dry_chem_nuc\": load_variables_for_all_years('h1', dry_chem_nuc_vars),\n",
    "    \"dry_chem_cond\": load_variables_for_all_years('h1', dry_chem_cond_vars),\n",
    "    \"dry_dep\": load_variables_for_all_years('h1', dry_dep_variables),\n",
    "    \"wet_dep\": load_variables_for_all_years('h1', wet_dep_variables),\n",
    "}\n",
    "\n",
    "regions = {\n",
    "    \"NPAC\": NPAC,\n",
    "    \"East_Asia\": East_Asia,\n",
    "}\n",
    "\n",
    "years = (\"2006\", \"1970\")\n",
    "\n",
    "budgets = {}\n",
    "\n",
    "for category, dataset in data_groups.items():\n",
    "    budgets[category] = {}\n",
    "    for region_name, mask in regions.items():\n",
    "        flip = (category == \"wet_dep\")\n",
    "        result = compute_budget_change('JJA', dataset, mask, *years, area, seconds_per_year, Tg_per_kg, flip_sign=flip).item()\n",
    "        budgets[category][region_name] = result   # <--- missing assignment\n",
    "\n",
    "df_JJA = pd.DataFrame(budgets)\n",
    "\n",
    "budgets = {}\n",
    "\n",
    "for category, dataset in data_groups.items():\n",
    "    budgets[category] = {}\n",
    "    for region_name, mask in regions.items():\n",
    "        flip = (category == \"wet_dep\")\n",
    "        result = compute_budget_change('DJF', dataset, mask, *years, area, seconds_per_year, Tg_per_kg, flip_sign=flip).item()\n",
    "        budgets[category][region_name] = result   # <--- missing assignment\n",
    "\n",
    "df_DJF = pd.DataFrame(budgets)"
   ]
  },
  {
   "cell_type": "markdown",
   "id": "2f0be5bc-cdb3-43dc-b663-93ad96cb1240",
   "metadata": {},
   "source": [
    "## <span style=\"color:purple\">Calculating Transportation as Residual:"
   ]
  },
  {
   "cell_type": "code",
   "execution_count": 25,
   "id": "d27ab6aa-be3e-4b4d-8b59-5e97d332dc7f",
   "metadata": {},
   "outputs": [],
   "source": [
    "# JJA transport\n",
    "df_JJA[\"transport\"] = (\n",
    "    (df_JJA[\"dry_dep\"] + df_JJA[\"wet_dep\"])   # ΔD\n",
    "    - df_JJA[\"emission\"]                      # - ΔE\n",
    "    - df_JJA[\"aq_prod\"]                       # - ΔPaq\n",
    "    - (df_JJA[\"dry_chem_cond\"] + df_JJA[\"dry_chem_nuc\"])  # - ΔPgas\n",
    ")\n",
    "\n",
    "\n",
    "# DJF transport\n",
    "df_DJF[\"transport\"] = (\n",
    "    (df_DJF[\"dry_dep\"] + df_DJF[\"wet_dep\"])\n",
    "    - df_DJF[\"emission\"]\n",
    "    - df_DJF[\"aq_prod\"]\n",
    "    - (df_DJF[\"dry_chem_cond\"] + df_DJF[\"dry_chem_nuc\"])\n",
    ")"
   ]
  },
  {
   "cell_type": "code",
   "execution_count": 30,
   "id": "59b2769c-b496-4c60-848a-398bdbcd84b8",
   "metadata": {},
   "outputs": [
    {
     "data": {
      "text/html": [
       "<div>\n",
       "<style scoped>\n",
       "    .dataframe tbody tr th:only-of-type {\n",
       "        vertical-align: middle;\n",
       "    }\n",
       "\n",
       "    .dataframe tbody tr th {\n",
       "        vertical-align: top;\n",
       "    }\n",
       "\n",
       "    .dataframe thead th {\n",
       "        text-align: right;\n",
       "    }\n",
       "</style>\n",
       "<table border=\"1\" class=\"dataframe\">\n",
       "  <thead>\n",
       "    <tr style=\"text-align: right;\">\n",
       "      <th></th>\n",
       "      <th>JJA</th>\n",
       "      <th>DJF</th>\n",
       "      <th>JJA:DJF</th>\n",
       "    </tr>\n",
       "  </thead>\n",
       "  <tbody>\n",
       "    <tr>\n",
       "      <th>NPAC</th>\n",
       "      <td>1.393989</td>\n",
       "      <td>1.038175</td>\n",
       "      <td>1.342731</td>\n",
       "    </tr>\n",
       "    <tr>\n",
       "      <th>East_Asia</th>\n",
       "      <td>-4.413415</td>\n",
       "      <td>-3.194614</td>\n",
       "      <td>1.381518</td>\n",
       "    </tr>\n",
       "  </tbody>\n",
       "</table>\n",
       "</div>"
      ],
      "text/plain": [
       "                JJA       DJF   JJA:DJF\n",
       "NPAC       1.393989  1.038175  1.342731\n",
       "East_Asia -4.413415 -3.194614  1.381518"
      ]
     },
     "execution_count": 30,
     "metadata": {},
     "output_type": "execute_result"
    }
   ],
   "source": [
    "df_transport = pd.concat(\n",
    "    {\"JJA\": df_JJA[\"transport\"], \"DJF\": df_DJF[\"transport\"]},\n",
    "    axis=1\n",
    ")\n",
    "df_transport[\"JJA:DJF\"] = df_transport[\"JJA\"] / df_transport[\"DJF\"]\n",
    "df_transport"
   ]
  },
  {
   "cell_type": "code",
   "execution_count": 32,
   "id": "9d175baa-cb8a-4777-9328-7e1b23f601d4",
   "metadata": {},
   "outputs": [
    {
     "data": {
      "text/html": [
       "<div>\n",
       "<style scoped>\n",
       "    .dataframe tbody tr th:only-of-type {\n",
       "        vertical-align: middle;\n",
       "    }\n",
       "\n",
       "    .dataframe tbody tr th {\n",
       "        vertical-align: top;\n",
       "    }\n",
       "\n",
       "    .dataframe thead th {\n",
       "        text-align: right;\n",
       "    }\n",
       "</style>\n",
       "<table border=\"1\" class=\"dataframe\">\n",
       "  <thead>\n",
       "    <tr style=\"text-align: right;\">\n",
       "      <th></th>\n",
       "      <th>emission</th>\n",
       "      <th>aq_prod</th>\n",
       "      <th>dry_chem_nuc</th>\n",
       "      <th>dry_chem_cond</th>\n",
       "      <th>dry_dep</th>\n",
       "      <th>wet_dep</th>\n",
       "      <th>transport</th>\n",
       "    </tr>\n",
       "  </thead>\n",
       "  <tbody>\n",
       "    <tr>\n",
       "      <th>NPAC</th>\n",
       "      <td>0.000007</td>\n",
       "      <td>0.489425</td>\n",
       "      <td>0.000577</td>\n",
       "      <td>0.427820</td>\n",
       "      <td>0.179695</td>\n",
       "      <td>2.132123</td>\n",
       "      <td>1.393989</td>\n",
       "    </tr>\n",
       "    <tr>\n",
       "      <th>East_Asia</th>\n",
       "      <td>1.228960</td>\n",
       "      <td>5.995993</td>\n",
       "      <td>0.005246</td>\n",
       "      <td>10.046938</td>\n",
       "      <td>1.689651</td>\n",
       "      <td>11.174072</td>\n",
       "      <td>-4.413415</td>\n",
       "    </tr>\n",
       "  </tbody>\n",
       "</table>\n",
       "</div>"
      ],
      "text/plain": [
       "           emission   aq_prod  dry_chem_nuc  dry_chem_cond   dry_dep  \\\n",
       "NPAC       0.000007  0.489425      0.000577       0.427820  0.179695   \n",
       "East_Asia  1.228960  5.995993      0.005246      10.046938  1.689651   \n",
       "\n",
       "             wet_dep  transport  \n",
       "NPAC        2.132123   1.393989  \n",
       "East_Asia  11.174072  -4.413415  "
      ]
     },
     "execution_count": 32,
     "metadata": {},
     "output_type": "execute_result"
    }
   ],
   "source": [
    "df_JJA"
   ]
  },
  {
   "cell_type": "code",
   "execution_count": 33,
   "id": "2fc30150-6b9f-46c6-9a32-732b615b1c7b",
   "metadata": {},
   "outputs": [
    {
     "data": {
      "text/html": [
       "<div>\n",
       "<style scoped>\n",
       "    .dataframe tbody tr th:only-of-type {\n",
       "        vertical-align: middle;\n",
       "    }\n",
       "\n",
       "    .dataframe tbody tr th {\n",
       "        vertical-align: top;\n",
       "    }\n",
       "\n",
       "    .dataframe thead th {\n",
       "        text-align: right;\n",
       "    }\n",
       "</style>\n",
       "<table border=\"1\" class=\"dataframe\">\n",
       "  <thead>\n",
       "    <tr style=\"text-align: right;\">\n",
       "      <th></th>\n",
       "      <th>emission</th>\n",
       "      <th>aq_prod</th>\n",
       "      <th>dry_chem_nuc</th>\n",
       "      <th>dry_chem_cond</th>\n",
       "      <th>dry_dep</th>\n",
       "      <th>wet_dep</th>\n",
       "      <th>transport</th>\n",
       "    </tr>\n",
       "  </thead>\n",
       "  <tbody>\n",
       "    <tr>\n",
       "      <th>NPAC</th>\n",
       "      <td>-0.000030</td>\n",
       "      <td>1.615273</td>\n",
       "      <td>0.000521</td>\n",
       "      <td>0.216425</td>\n",
       "      <td>0.225552</td>\n",
       "      <td>2.644812</td>\n",
       "      <td>1.038175</td>\n",
       "    </tr>\n",
       "    <tr>\n",
       "      <th>East_Asia</th>\n",
       "      <td>1.346197</td>\n",
       "      <td>4.316201</td>\n",
       "      <td>0.003132</td>\n",
       "      <td>4.261006</td>\n",
       "      <td>1.752264</td>\n",
       "      <td>4.979659</td>\n",
       "      <td>-3.194614</td>\n",
       "    </tr>\n",
       "  </tbody>\n",
       "</table>\n",
       "</div>"
      ],
      "text/plain": [
       "           emission   aq_prod  dry_chem_nuc  dry_chem_cond   dry_dep  \\\n",
       "NPAC      -0.000030  1.615273      0.000521       0.216425  0.225552   \n",
       "East_Asia  1.346197  4.316201      0.003132       4.261006  1.752264   \n",
       "\n",
       "            wet_dep  transport  \n",
       "NPAC       2.644812   1.038175  \n",
       "East_Asia  4.979659  -3.194614  "
      ]
     },
     "execution_count": 33,
     "metadata": {},
     "output_type": "execute_result"
    }
   ],
   "source": [
    "df_DJF"
   ]
  },
  {
   "cell_type": "code",
   "execution_count": null,
   "id": "32c3d1be-e020-4630-9e49-88d20ffadf4c",
   "metadata": {},
   "outputs": [],
   "source": []
  }
 ],
 "metadata": {
  "kernelspec": {
   "display_name": "NPL 2025b",
   "language": "python",
   "name": "npl-2025b"
  },
  "language_info": {
   "codemirror_mode": {
    "name": "ipython",
    "version": 3
   },
   "file_extension": ".py",
   "mimetype": "text/x-python",
   "name": "python",
   "nbconvert_exporter": "python",
   "pygments_lexer": "ipython3",
   "version": "3.12.11"
  }
 },
 "nbformat": 4,
 "nbformat_minor": 5
}
