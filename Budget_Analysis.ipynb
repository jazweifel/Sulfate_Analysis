{
 "cells": [
  {
   "cell_type": "markdown",
   "id": "f82ece2a-b5cc-4882-8819-05dd2bc1158a",
   "metadata": {},
   "source": [
    "## Imports, masks, conversions"
   ]
  },
  {
   "cell_type": "code",
   "execution_count": 1,
   "id": "5ac91060-3b40-4ba5-bb08-f3325f77afce",
   "metadata": {},
   "outputs": [],
   "source": [
    "import xarray as xr\n",
    "import os\n",
    "import sys\n",
    "sys.path.append('/glade/u/home/jzweifel/utils')\n",
    "import importlib\n",
    "import load_variable\n",
    "importlib.reload(load_variable)\n",
    "from load_variable import load_variables_for_all_years\n",
    "import pandas as pd\n",
    "\n",
    "NPAC = xr.open_dataarray('/glade/u/home/jzweifel/jupyter_workspaces/Masters_paper_analysis/weighting_and_masks/NPO_binary_map_lower_bound_20_deg.nc')\n",
    "East_Asia = xr.open_dataarray('/glade/u/home/jzweifel/jupyter_workspaces/Masters_paper_analysis/weighting_and_masks/CJK_binary_assign_coords.nc')\n",
    "area = xr.open_dataarray('/glade/u/home/jzweifel/jupyter_workspaces/Masters_paper_analysis/weighting_and_masks/AREA.nc')\n",
    "\n",
    "second = 1\n",
    "minute = 60 * second\n",
    "hour = 60 * minute\n",
    "day = 24 * hour\n",
    "seconds_per_year = 365 * day\n",
    "\n",
    "kg = 1\n",
    "Tg_per_kg = 1e-9 * kg\n"
   ]
  },
  {
   "cell_type": "markdown",
   "id": "1c3dcf9b-9484-4f27-80ed-6c0369c06de6",
   "metadata": {},
   "source": [
    "## Budget variables"
   ]
  },
  {
   "cell_type": "code",
   "execution_count": 2,
   "id": "004b1cdd-6f03-425a-8811-dfb5ab9c80c2",
   "metadata": {},
   "outputs": [],
   "source": [
    "emission_vars = ['SFso4_a1', 'SFso4_a2', 'SFso4_a3', 'so4_a1_CMXF', 'so4_a2_CMXF']\n",
    "# surface fluxes & vertically integrated external forcing (kg/m2/s)\n",
    "\n",
    "aq_prod_vars = ['so4_c1AQSO4', 'so4_c1AQH2SO4', 'so4_c2AQSO4', 'so4_c2AQH2SO4', 'so4_c3AQSO4', 'so4_c3AQH2SO4']\n",
    "# aqueous phase chemistry (kg/m2/s)\n",
    "\n",
    "dry_chem_nuc_vars = ['so4_a2_sfnnuc1']\n",
    "# new particle nucleation column tendency (kg/m2/s)\n",
    "\n",
    "dry_chem_cond_vars = ['so4_a1_sfgaex1', 'so4_a2_sfgaex1', 'so4_a3_sfgaex1']\n",
    "# gas-aerosol-exchange primary column tendency (kg/m2/s)\n",
    "\n",
    "dry_dep_variables = ['so4_a1DDF', 'so4_a2DDF', 'so4_a3DDF', 'so4_c1DDF', 'so4_c2DDF', 'so4_c3DDF']\n",
    "# dry deposition flux at bottom (grav + turb) (kg/m2/s)\n",
    "\n",
    "wet_dep_variables = ['so4_a1SFWET', 'so4_a2SFWET', 'so4_a3SFWET', 'so4_c1SFWET', 'so4_c2SFWET', 'so4_c3SFWET']\n",
    "# wet deposition flux at surface (kg/m2/s)"
   ]
  },
  {
   "cell_type": "markdown",
   "id": "d08a1737-6d5b-46c6-99b2-a210659da8bb",
   "metadata": {},
   "source": [
    "## Function to compute regional budget change across time between simulations"
   ]
  },
  {
   "cell_type": "code",
   "execution_count": 3,
   "id": "7532995c-a937-4ad2-a34a-ecdaa14c2022",
   "metadata": {},
   "outputs": [],
   "source": [
    "def compute_budget_change(data_dict, region_mask, year1, year0, area, seconds_per_year, Tg_per_kg, flip_sign=False):\n",
    "    \n",
    "    # difference\n",
    "    diff = data_dict[year1].where(region_mask) - data_dict[year0].where(region_mask)\n",
    "    \n",
    "    # sign convention\n",
    "    if flip_sign:\n",
    "        diff = diff * -1\n",
    "    \n",
    "    # scale and reduce\n",
    "    result = (diff * area * seconds_per_year * Tg_per_kg).mean(dim=['time']).sum(dim=['lat', 'lon']).to_array().sum()\n",
    "    \n",
    "    return result"
   ]
  },
  {
   "cell_type": "markdown",
   "id": "48c56a42-85c6-491b-919a-37aba372abb8",
   "metadata": {},
   "source": [
    "## Computing Budgets:\n",
    "### NPAC and East Asia (2006 simulation - 1970 simulation)"
   ]
  },
  {
   "cell_type": "code",
   "execution_count": 6,
   "id": "4e39f74b-f945-421a-a9f3-29975f187a53",
   "metadata": {},
   "outputs": [],
   "source": [
    "import pandas as pd\n",
    "\n",
    "data_groups = {\n",
    "    \"emission\": load_variables_for_all_years('h1', emission_vars),\n",
    "    \"aq_prod\": load_variables_for_all_years('h1', aq_prod_vars),\n",
    "    \"dry_chem_nuc\": load_variables_for_all_years('h1', dry_chem_nuc_vars),\n",
    "    \"dry_chem_cond\": load_variables_for_all_years('h1', dry_chem_cond_vars),\n",
    "    \"dry_dep\": load_variables_for_all_years('h1', dry_dep_variables),\n",
    "    \"wet_dep\": load_variables_for_all_years('h1', wet_dep_variables),\n",
    "}\n",
    "\n",
    "regions = {\n",
    "    \"NPAC\": NPAC,\n",
    "    \"East_Asia\": East_Asia,\n",
    "}\n",
    "\n",
    "years = (\"2006\", \"1970\")\n",
    "\n",
    "budgets = {}\n",
    "\n",
    "for category, dataset in data_groups.items():\n",
    "    budgets[category] = {}\n",
    "    for region_name, mask in regions.items():\n",
    "        flip = (category == \"wet_dep\")  # flip sign only for wet dep\n",
    "        budgets[category][region_name] = compute_budget_change(dataset, mask, *years, area, seconds_per_year, Tg_per_kg, flip_sign=flip).item()\n",
    "\n",
    "df = pd.DataFrame(budgets).T"
   ]
  },
  {
   "cell_type": "code",
   "execution_count": 7,
   "id": "6c55d1ee-af26-43b3-85db-9fee5c0cf46b",
   "metadata": {},
   "outputs": [
    {
     "data": {
      "text/html": [
       "<div>\n",
       "<style scoped>\n",
       "    .dataframe tbody tr th:only-of-type {\n",
       "        vertical-align: middle;\n",
       "    }\n",
       "\n",
       "    .dataframe tbody tr th {\n",
       "        vertical-align: top;\n",
       "    }\n",
       "\n",
       "    .dataframe thead th {\n",
       "        text-align: right;\n",
       "    }\n",
       "</style>\n",
       "<table border=\"1\" class=\"dataframe\">\n",
       "  <thead>\n",
       "    <tr style=\"text-align: right;\">\n",
       "      <th></th>\n",
       "      <th>NPAC</th>\n",
       "      <th>East_Asia</th>\n",
       "    </tr>\n",
       "  </thead>\n",
       "  <tbody>\n",
       "    <tr>\n",
       "      <th>emission</th>\n",
       "      <td>-0.000011</td>\n",
       "      <td>1.278880</td>\n",
       "    </tr>\n",
       "    <tr>\n",
       "      <th>aq_prod</th>\n",
       "      <td>1.190142</td>\n",
       "      <td>5.405908</td>\n",
       "    </tr>\n",
       "    <tr>\n",
       "      <th>dry_chem_nuc</th>\n",
       "      <td>0.000755</td>\n",
       "      <td>0.003819</td>\n",
       "    </tr>\n",
       "    <tr>\n",
       "      <th>dry_chem_cond</th>\n",
       "      <td>0.357251</td>\n",
       "      <td>7.139449</td>\n",
       "    </tr>\n",
       "    <tr>\n",
       "      <th>dry_dep</th>\n",
       "      <td>0.231437</td>\n",
       "      <td>1.752965</td>\n",
       "    </tr>\n",
       "    <tr>\n",
       "      <th>wet_dep</th>\n",
       "      <td>2.451432</td>\n",
       "      <td>8.400840</td>\n",
       "    </tr>\n",
       "  </tbody>\n",
       "</table>\n",
       "</div>"
      ],
      "text/plain": [
       "                   NPAC  East_Asia\n",
       "emission      -0.000011   1.278880\n",
       "aq_prod        1.190142   5.405908\n",
       "dry_chem_nuc   0.000755   0.003819\n",
       "dry_chem_cond  0.357251   7.139449\n",
       "dry_dep        0.231437   1.752965\n",
       "wet_dep        2.451432   8.400840"
      ]
     },
     "execution_count": 7,
     "metadata": {},
     "output_type": "execute_result"
    }
   ],
   "source": [
    "df"
   ]
  },
  {
   "cell_type": "code",
   "execution_count": null,
   "id": "523cce6c-b21b-48e1-922c-268f9792566d",
   "metadata": {},
   "outputs": [],
   "source": []
  },
  {
   "cell_type": "code",
   "execution_count": 4,
   "id": "1200add3-3729-4435-8063-f2f8bda0532c",
   "metadata": {},
   "outputs": [],
   "source": []
  },
  {
   "cell_type": "code",
   "execution_count": 85,
   "id": "7409a810-3f0e-47de-bbb5-bfc3b359fe3c",
   "metadata": {},
   "outputs": [],
   "source": [
    "a = load_variables_for_all_years('h1', emission_vars)\n",
    "b = load_variables_for_all_years('h1', aq_prod_vars)\n",
    "c = load_variables_for_all_years('h1', dry_chem_nuc_vars)\n",
    "d = load_variables_for_all_years('h1', dry_chem_cond_vars)\n",
    "e = load_variables_for_all_years('h1', dry_dep_variables)\n",
    "f = load_variables_for_all_years('h1', wet_dep_variables)\n",
    "\n",
    "NPAC_emission_budget = ((a['2006'].where(NPAC) - a['1970'].where(NPAC))*area*seconds_per_year*Tg_per_kg).mean(dim=['time']).sum(dim=['lat', 'lon']).to_array().sum()\n",
    "East_Asia_emission_budget = ((a['2006'].where(East_Asia) - a['1970'].where(East_Asia))*area*seconds_per_year*Tg_per_kg).mean(dim=['time']).sum(dim=['lat', 'lon']).to_array().sum()\n",
    "\n",
    "NPAC_aq_prod_budget = ((b['2006'].where(NPAC) - b['1970'].where(NPAC))*area*seconds_per_year*Tg_per_kg).mean(dim=['time']).sum(dim=['lat', 'lon']).to_array().sum()\n",
    "East_Asia_aq_prod_budget = ((b['2006'].where(East_Asia) - b['1970'].where(East_Asia))*area*seconds_per_year*Tg_per_kg).mean(dim=['time']).sum(dim=['lat', 'lon']).to_array().sum()\n",
    "\n",
    "NPAC_dry_chem_nuc_budget = ((c['2006'].where(NPAC) -c['1970'].where(NPAC))*area*seconds_per_year*Tg_per_kg).mean(dim=['time']).sum(dim=['lat', 'lon']).to_array().sum()\n",
    "East_Asia_dry_chem_nuc_budget = ((c['2006'].where(East_Asia) - c['1970'].where(East_Asia))*area*seconds_per_year*Tg_per_kg).mean(dim=['time']).sum(dim=['lat', 'lon']).to_array().sum()\n",
    "\n",
    "NPAC_dry_chem_cond_budget = ((d['2006'].where(NPAC) - d['1970'].where(NPAC))*area*seconds_per_year*Tg_per_kg).mean(dim=['time']).sum(dim=['lat', 'lon']).to_array().sum()\n",
    "East_Asia_dry_chem_cond_budget = ((d['2006'].where(East_Asia) - d['1970'].where(East_Asia))*area*seconds_per_year*Tg_per_kg).mean(dim=['time']).sum(dim=['lat', 'lon']).to_array().sum()\n",
    "\n",
    "NPAC_dry_dep_budget = ((e['2006'].where(NPAC) - e['1970'].where(NPAC))*area*seconds_per_year*Tg_per_kg).mean(dim=['time']).sum(dim=['lat', 'lon']).to_array().sum()\n",
    "East_Asia_dry_dep_budget = ((e['2006'].where(East_Asia) - e['1970'].where(East_Asia))*area*seconds_per_year*Tg_per_kg).mean(dim=['time']).sum(dim=['lat', 'lon']).to_array().sum()\n",
    "\n",
    "NPAC_wet_dep_budget = ((f['2006'].where(NPAC)*-1 - f['1970'].where(NPAC)*-1)*area*seconds_per_year*Tg_per_kg).mean(dim=['time']).sum(dim=['lat', 'lon']).to_array().sum()\n",
    "East_Asia_wet_dep_budget = ((f['2006'].where(East_Asia)*-1 - f['1970'].where(East_Asia)*-1)*area*seconds_per_year*Tg_per_kg).mean(dim=['time']).sum(dim=['lat', 'lon']).to_array().sum()\n",
    "\n"
   ]
  }
 ],
 "metadata": {
  "kernelspec": {
   "display_name": "NPL 2025b",
   "language": "python",
   "name": "npl-2025b"
  },
  "language_info": {
   "codemirror_mode": {
    "name": "ipython",
    "version": 3
   },
   "file_extension": ".py",
   "mimetype": "text/x-python",
   "name": "python",
   "nbconvert_exporter": "python",
   "pygments_lexer": "ipython3",
   "version": "3.12.11"
  }
 },
 "nbformat": 4,
 "nbformat_minor": 5
}
